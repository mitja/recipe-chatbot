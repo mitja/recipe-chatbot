{
 "cells": [
  {
   "cell_type": "markdown",
   "id": "4f6e779e",
   "metadata": {},
   "source": [
    "# Homework 2 Solution\n",
    "\n",
    "## Part 1: Define Dimensions & Generate Initial Queries\n",
    "\n",
    "### Identify Key Dimensions\n",
    "\n",
    "I created key dimensions and example values and saved them in `key_dimensions.yaml`:"
   ]
  },
  {
   "cell_type": "code",
   "execution_count": 44,
   "id": "1aba71c8",
   "metadata": {},
   "outputs": [
    {
     "name": "stdout",
     "output_type": "stream",
     "text": [
      "- cuisine_type: [German, Italian, French, Vietnamese]\n",
      "- meal_type: [breakfast, supper, dinner]\n",
      "- preparation_time: [less than 1h, 20 min, low prep time]\n",
      "- available_food: [tuna, salmon, eggs, chicken breast]\n"
     ]
    }
   ],
   "source": [
    "key_dimensions = \"\"\n",
    "with open('key_dimensions.yaml', 'r') as file:\n",
    "    key_dimensions = file.read()\n",
    "print(key_dimensions)"
   ]
  },
  {
   "cell_type": "markdown",
   "id": "62d77758",
   "metadata": {},
   "source": [
    "### Generate Unique Combinations (Tuples)\n",
    "\n",
    "I wrote a prompt to generate 15-20 unique combinations (tuples) of the dimension values. Here is the prompt with the key dimension values filled in:"
   ]
  },
  {
   "cell_type": "code",
   "execution_count": 3,
   "id": "d2acab0f",
   "metadata": {},
   "outputs": [
    {
     "name": "stdout",
     "output_type": "stream",
     "text": [
      "You are part of a data pipeline to generate evaluations of a recipe chatbot.\n",
      "\n",
      "Please create 20 unique combinations of following dimension values. The format is `dimension: [value1, value2, ...]`:\n",
      "\n",
      "- cuisine_type: [German, Italian, French, Vietnamese]\n",
      "- meal_type: [breakfast, supper, dinner]\n",
      "- preparation_time: [less than 1h, 20 min, low prep time]\n",
      "- available_food: [tuna, salmon, eggs, chicken breast]\n",
      "\n",
      "The combinations shall be realistic for actual user queries and evenly distributed. Use a CSV output format with following columns:\n",
      "\n",
      "`tuple_id,cuisine_type,meal_type,available_food,preparation_time`\n",
      "\n",
      "Generate only the csv table with header, no explanations.\n"
     ]
    }
   ],
   "source": [
    "with open('generate-tuples-prompt-tpl.md', 'r') as f:\n",
    "    template = f.read()\n",
    "\n",
    "# Interpolate the template with key_dimensions\n",
    "prompt = template.format(key_dimensions=key_dimensions)\n",
    "\n",
    "# Print the result to verify\n",
    "print(prompt)"
   ]
  },
  {
   "cell_type": "markdown",
   "id": "3c4ca629",
   "metadata": {},
   "source": [
    "Then I prompted `gpt-4.1-nano` to generate the tuples:"
   ]
  },
  {
   "cell_type": "code",
   "execution_count": 45,
   "id": "b9eeca1a",
   "metadata": {},
   "outputs": [],
   "source": [
    "import litellm\n",
    "\n",
    "def call_openai_with_prompt(prompt_text):\n",
    "    try:\n",
    "        response = litellm.completion(\n",
    "            model=\"gpt-4.1-nano\", temperature=0.7, max_tokens=1000,\n",
    "            messages=[{\"role\": \"user\", \"content\": prompt_text}]\n",
    "        )\n",
    "        return response.choices[0].message.content\n",
    "    except Exception as e:\n",
    "        print(f\"Error calling OpenAI API: {e}\")\n",
    "        return None"
   ]
  },
  {
   "cell_type": "code",
   "execution_count": 5,
   "id": "6afaa2d3",
   "metadata": {},
   "outputs": [
    {
     "name": "stdout",
     "output_type": "stream",
     "text": [
      "✅ saved to tuples.csv\n"
     ]
    }
   ],
   "source": [
    "result = call_openai_with_prompt(prompt)\n",
    "\n",
    "with open('tuples.csv', 'w', newline='') as csvfile:\n",
    "    csvfile.write(result)\n",
    "\n",
    "print(\"✅ saved to tuples.csv\")"
   ]
  },
  {
   "cell_type": "code",
   "execution_count": 6,
   "id": "5806d7fc",
   "metadata": {},
   "outputs": [
    {
     "data": {
      "text/html": [
       "<div>\n",
       "<style scoped>\n",
       "    .dataframe tbody tr th:only-of-type {\n",
       "        vertical-align: middle;\n",
       "    }\n",
       "\n",
       "    .dataframe tbody tr th {\n",
       "        vertical-align: top;\n",
       "    }\n",
       "\n",
       "    .dataframe thead th {\n",
       "        text-align: right;\n",
       "    }\n",
       "</style>\n",
       "<table border=\"1\" class=\"dataframe\">\n",
       "  <thead>\n",
       "    <tr style=\"text-align: right;\">\n",
       "      <th></th>\n",
       "      <th>tuple_id</th>\n",
       "      <th>cuisine_type</th>\n",
       "      <th>meal_type</th>\n",
       "      <th>available_food</th>\n",
       "      <th>preparation_time</th>\n",
       "    </tr>\n",
       "  </thead>\n",
       "  <tbody>\n",
       "    <tr>\n",
       "      <th>0</th>\n",
       "      <td>1</td>\n",
       "      <td>German</td>\n",
       "      <td>breakfast</td>\n",
       "      <td>tuna</td>\n",
       "      <td>less than 1h</td>\n",
       "    </tr>\n",
       "    <tr>\n",
       "      <th>1</th>\n",
       "      <td>2</td>\n",
       "      <td>Italian</td>\n",
       "      <td>supper</td>\n",
       "      <td>eggs</td>\n",
       "      <td>20 min</td>\n",
       "    </tr>\n",
       "    <tr>\n",
       "      <th>2</th>\n",
       "      <td>3</td>\n",
       "      <td>French</td>\n",
       "      <td>dinner</td>\n",
       "      <td>chicken breast</td>\n",
       "      <td>low prep time</td>\n",
       "    </tr>\n",
       "    <tr>\n",
       "      <th>3</th>\n",
       "      <td>4</td>\n",
       "      <td>Vietnamese</td>\n",
       "      <td>breakfast</td>\n",
       "      <td>salmon</td>\n",
       "      <td>less than 1h</td>\n",
       "    </tr>\n",
       "    <tr>\n",
       "      <th>4</th>\n",
       "      <td>5</td>\n",
       "      <td>German</td>\n",
       "      <td>dinner</td>\n",
       "      <td>eggs</td>\n",
       "      <td>20 min</td>\n",
       "    </tr>\n",
       "    <tr>\n",
       "      <th>5</th>\n",
       "      <td>6</td>\n",
       "      <td>Italian</td>\n",
       "      <td>breakfast</td>\n",
       "      <td>chicken breast</td>\n",
       "      <td>low prep time</td>\n",
       "    </tr>\n",
       "    <tr>\n",
       "      <th>6</th>\n",
       "      <td>7</td>\n",
       "      <td>French</td>\n",
       "      <td>supper</td>\n",
       "      <td>tuna</td>\n",
       "      <td>less than 1h</td>\n",
       "    </tr>\n",
       "    <tr>\n",
       "      <th>7</th>\n",
       "      <td>8</td>\n",
       "      <td>Vietnamese</td>\n",
       "      <td>dinner</td>\n",
       "      <td>salmon</td>\n",
       "      <td>20 min</td>\n",
       "    </tr>\n",
       "    <tr>\n",
       "      <th>8</th>\n",
       "      <td>9</td>\n",
       "      <td>German</td>\n",
       "      <td>supper</td>\n",
       "      <td>eggs</td>\n",
       "      <td>low prep time</td>\n",
       "    </tr>\n",
       "    <tr>\n",
       "      <th>9</th>\n",
       "      <td>10</td>\n",
       "      <td>Italian</td>\n",
       "      <td>dinner</td>\n",
       "      <td>tuna</td>\n",
       "      <td>less than 1h</td>\n",
       "    </tr>\n",
       "    <tr>\n",
       "      <th>10</th>\n",
       "      <td>11</td>\n",
       "      <td>French</td>\n",
       "      <td>breakfast</td>\n",
       "      <td>chicken breast</td>\n",
       "      <td>20 min</td>\n",
       "    </tr>\n",
       "    <tr>\n",
       "      <th>11</th>\n",
       "      <td>12</td>\n",
       "      <td>Vietnamese</td>\n",
       "      <td>supper</td>\n",
       "      <td>eggs</td>\n",
       "      <td>low prep time</td>\n",
       "    </tr>\n",
       "    <tr>\n",
       "      <th>12</th>\n",
       "      <td>13</td>\n",
       "      <td>German</td>\n",
       "      <td>dinner</td>\n",
       "      <td>salmon</td>\n",
       "      <td>less than 1h</td>\n",
       "    </tr>\n",
       "    <tr>\n",
       "      <th>13</th>\n",
       "      <td>14</td>\n",
       "      <td>Italian</td>\n",
       "      <td>breakfast</td>\n",
       "      <td>eggs</td>\n",
       "      <td>20 min</td>\n",
       "    </tr>\n",
       "    <tr>\n",
       "      <th>14</th>\n",
       "      <td>15</td>\n",
       "      <td>French</td>\n",
       "      <td>supper</td>\n",
       "      <td>chicken breast</td>\n",
       "      <td>low prep time</td>\n",
       "    </tr>\n",
       "    <tr>\n",
       "      <th>15</th>\n",
       "      <td>16</td>\n",
       "      <td>Vietnamese</td>\n",
       "      <td>breakfast</td>\n",
       "      <td>tuna</td>\n",
       "      <td>less than 1h</td>\n",
       "    </tr>\n",
       "    <tr>\n",
       "      <th>16</th>\n",
       "      <td>17</td>\n",
       "      <td>German</td>\n",
       "      <td>supper</td>\n",
       "      <td>salmon</td>\n",
       "      <td>20 min</td>\n",
       "    </tr>\n",
       "    <tr>\n",
       "      <th>17</th>\n",
       "      <td>18</td>\n",
       "      <td>Italian</td>\n",
       "      <td>dinner</td>\n",
       "      <td>eggs</td>\n",
       "      <td>low prep time</td>\n",
       "    </tr>\n",
       "    <tr>\n",
       "      <th>18</th>\n",
       "      <td>19</td>\n",
       "      <td>French</td>\n",
       "      <td>breakfast</td>\n",
       "      <td>tuna</td>\n",
       "      <td>less than 1h</td>\n",
       "    </tr>\n",
       "    <tr>\n",
       "      <th>19</th>\n",
       "      <td>20</td>\n",
       "      <td>Vietnamese</td>\n",
       "      <td>breakfast</td>\n",
       "      <td>egg</td>\n",
       "      <td>20 min</td>\n",
       "    </tr>\n",
       "  </tbody>\n",
       "</table>\n",
       "</div>"
      ],
      "text/plain": [
       "    tuple_id cuisine_type  meal_type   available_food preparation_time\n",
       "0          1       German  breakfast             tuna     less than 1h\n",
       "1          2      Italian     supper             eggs           20 min\n",
       "2          3       French     dinner   chicken breast    low prep time\n",
       "3          4   Vietnamese  breakfast           salmon     less than 1h\n",
       "4          5       German     dinner             eggs           20 min\n",
       "5          6      Italian  breakfast   chicken breast    low prep time\n",
       "6          7       French     supper             tuna     less than 1h\n",
       "7          8   Vietnamese     dinner           salmon           20 min\n",
       "8          9       German     supper             eggs    low prep time\n",
       "9         10      Italian     dinner             tuna     less than 1h\n",
       "10        11       French  breakfast   chicken breast           20 min\n",
       "11        12   Vietnamese     supper             eggs    low prep time\n",
       "12        13       German     dinner           salmon     less than 1h\n",
       "13        14      Italian  breakfast             eggs           20 min\n",
       "14        15       French     supper   chicken breast    low prep time\n",
       "15        16   Vietnamese  breakfast             tuna     less than 1h\n",
       "16        17       German     supper           salmon           20 min\n",
       "17        18      Italian     dinner             eggs    low prep time\n",
       "18        19       French  breakfast             tuna     less than 1h\n",
       "19        20   Vietnamese  breakfast              egg           20 min"
      ]
     },
     "metadata": {},
     "output_type": "display_data"
    }
   ],
   "source": [
    "import pandas as pd\n",
    "display(pd.read_csv('tuples.csv'))"
   ]
  },
  {
   "cell_type": "markdown",
   "id": "e42e052e",
   "metadata": {},
   "source": [
    "### Generate Natural Language User Queries\n",
    "\n",
    "I wrote a prompt that asks an LLM to create a natural language user query for each of the tuples. At first I asked it to sample just seven as asked in the homework, but then switched to the whole twenty, to have more data for the error analysis."
   ]
  },
  {
   "cell_type": "code",
   "execution_count": 7,
   "id": "c3f16901",
   "metadata": {},
   "outputs": [],
   "source": [
    "tuples = \"\"\n",
    "# Read the content of the file as a string\n",
    "with open('tuples.csv', 'r') as file:\n",
    "    tuples = file.read()"
   ]
  },
  {
   "cell_type": "code",
   "execution_count": 14,
   "id": "142a7c3f",
   "metadata": {},
   "outputs": [
    {
     "data": {
      "text/markdown": [
       "You are part of an example data generation pipeline for a recipe chatbot. Your task is to generate realistic user query examples based on following combinations of key dimensions. The key dimensions are stated in the header, the rows contain tuples of unique combinations for the dimensions:\n",
       "\n",
       "```csv\n",
       "tuple_id,cuisine_type,meal_type,available_food,preparation_time\n",
       "1,German,breakfast,tuna,less than 1h\n",
       "2,Italian,supper,eggs,20 min\n",
       "3,French,dinner,chicken breast,low prep time\n",
       "4,Vietnamese,breakfast,salmon,less than 1h\n",
       "5,German,dinner,eggs,20 min\n",
       "6,Italian,breakfast,chicken breast,low prep time\n",
       "7,French,supper,tuna,less than 1h\n",
       "8,Vietnamese,dinner,salmon,20 min\n",
       "9,German,supper,eggs,low prep time\n",
       "10,Italian,dinner,tuna,less than 1h\n",
       "11,French,breakfast, chicken breast,20 min\n",
       "12,Vietnamese,supper,eggs,low prep time\n",
       "13,German,dinner,salmon,less than 1h\n",
       "14,Italian,breakfast,eggs,20 min\n",
       "15,French,supper,chicken breast,low prep time\n",
       "16,Vietnamese,breakfast,tuna,less than 1h\n",
       "17,German,supper,salmon,20 min\n",
       "18,Italian,dinner,eggs,low prep time\n",
       "19,French,breakfast,tuna,less than 1h\n",
       "20,Vietnamese,breakfast,egg,20 min\n",
       "```\n",
       "\n",
       "You can use thinking, but enclose your thinking in <thinking></thinking> delimiters.\n",
       "\n",
       "For each sample, think about a realistic user persona and write a natural language user query in their voice.\n",
       "\n",
       "Write the user queries as if they are written by a real human at a smart phone, eg. very short and to the point, no punctuation. Think about different realistic user personas when writing each of the queries but don't include descriptions of the personas in the final result.\n",
       "\n",
       "Provide your result (and only the result) in following CSV format including headers:\n",
       "\n",
       "`query_id,tuple_id,user_query`"
      ],
      "text/plain": [
       "<IPython.core.display.Markdown object>"
      ]
     },
     "metadata": {},
     "output_type": "display_data"
    }
   ],
   "source": [
    "with open('generate-user-queries-prompt-tpl.md', 'r') as f:\n",
    "    template = f.read()\n",
    "\n",
    "# Interpolate the template with tuples\n",
    "user_queries_prompt = template.format(tuples=tuples)\n",
    "\n",
    "# Print the result to check them\n",
    "from IPython.display import Markdown, display\n",
    "display(Markdown(user_queries_prompt))"
   ]
  },
  {
   "cell_type": "code",
   "execution_count": 10,
   "id": "086d7f2a",
   "metadata": {},
   "outputs": [
    {
     "name": "stdout",
     "output_type": "stream",
     "text": [
      "✅ saved to user-queries-result.csv\n"
     ]
    }
   ],
   "source": [
    "user_queries_result = call_openai_with_prompt(user_queries_prompt)\n",
    "\n",
    "with open('user-queries-result.csv', 'w', newline='') as csvfile:\n",
    "    csvfile.write(user_queries_result)\n",
    "\n",
    "print(\"✅ saved to user-queries-result.csv\")"
   ]
  },
  {
   "cell_type": "markdown",
   "id": "aff46256",
   "metadata": {},
   "source": [
    "Next, I created a table that merges the tuples with the generated queries, and inspected them to see if some queries need to be improved."
   ]
  },
  {
   "cell_type": "code",
   "execution_count": 11,
   "id": "f3008a96",
   "metadata": {
    "vscode": {
     "languageId": "ruby"
    }
   },
   "outputs": [
    {
     "data": {
      "text/html": [
       "<div>\n",
       "<style scoped>\n",
       "    .dataframe tbody tr th:only-of-type {\n",
       "        vertical-align: middle;\n",
       "    }\n",
       "\n",
       "    .dataframe tbody tr th {\n",
       "        vertical-align: top;\n",
       "    }\n",
       "\n",
       "    .dataframe thead th {\n",
       "        text-align: right;\n",
       "    }\n",
       "</style>\n",
       "<table border=\"1\" class=\"dataframe\">\n",
       "  <thead>\n",
       "    <tr style=\"text-align: right;\">\n",
       "      <th></th>\n",
       "      <th>query_id</th>\n",
       "      <th>tuple_id</th>\n",
       "      <th>user_query</th>\n",
       "      <th>cuisine_type</th>\n",
       "      <th>meal_type</th>\n",
       "      <th>available_food</th>\n",
       "      <th>preparation_time</th>\n",
       "    </tr>\n",
       "  </thead>\n",
       "  <tbody>\n",
       "    <tr>\n",
       "      <th>0</th>\n",
       "      <td>1</td>\n",
       "      <td>1</td>\n",
       "      <td>What can I make for German breakfast with tuna...</td>\n",
       "      <td>German</td>\n",
       "      <td>breakfast</td>\n",
       "      <td>tuna</td>\n",
       "      <td>less than 1h</td>\n",
       "    </tr>\n",
       "    <tr>\n",
       "      <th>1</th>\n",
       "      <td>2</td>\n",
       "      <td>2</td>\n",
       "      <td>Quick Italian supper with eggs any ideas</td>\n",
       "      <td>Italian</td>\n",
       "      <td>supper</td>\n",
       "      <td>eggs</td>\n",
       "      <td>20 min</td>\n",
       "    </tr>\n",
       "    <tr>\n",
       "      <th>2</th>\n",
       "      <td>3</td>\n",
       "      <td>3</td>\n",
       "      <td>Low prep French dinner chicken breast suggestions</td>\n",
       "      <td>French</td>\n",
       "      <td>dinner</td>\n",
       "      <td>chicken breast</td>\n",
       "      <td>low prep time</td>\n",
       "    </tr>\n",
       "    <tr>\n",
       "      <th>3</th>\n",
       "      <td>4</td>\n",
       "      <td>4</td>\n",
       "      <td>Vietnamese breakfast with salmon ready in less...</td>\n",
       "      <td>Vietnamese</td>\n",
       "      <td>breakfast</td>\n",
       "      <td>salmon</td>\n",
       "      <td>less than 1h</td>\n",
       "    </tr>\n",
       "    <tr>\n",
       "      <th>4</th>\n",
       "      <td>5</td>\n",
       "      <td>5</td>\n",
       "      <td>Easy German dinner with eggs in 20 minutes</td>\n",
       "      <td>German</td>\n",
       "      <td>dinner</td>\n",
       "      <td>eggs</td>\n",
       "      <td>20 min</td>\n",
       "    </tr>\n",
       "    <tr>\n",
       "      <th>5</th>\n",
       "      <td>6</td>\n",
       "      <td>6</td>\n",
       "      <td>Italian breakfast with chicken breast quick re...</td>\n",
       "      <td>Italian</td>\n",
       "      <td>breakfast</td>\n",
       "      <td>chicken breast</td>\n",
       "      <td>low prep time</td>\n",
       "    </tr>\n",
       "    <tr>\n",
       "      <th>6</th>\n",
       "      <td>7</td>\n",
       "      <td>7</td>\n",
       "      <td>French supper with tuna under an hour</td>\n",
       "      <td>French</td>\n",
       "      <td>supper</td>\n",
       "      <td>tuna</td>\n",
       "      <td>less than 1h</td>\n",
       "    </tr>\n",
       "    <tr>\n",
       "      <th>7</th>\n",
       "      <td>8</td>\n",
       "      <td>8</td>\n",
       "      <td>What to cook Vietnamese dinner with salmon in ...</td>\n",
       "      <td>Vietnamese</td>\n",
       "      <td>dinner</td>\n",
       "      <td>salmon</td>\n",
       "      <td>20 min</td>\n",
       "    </tr>\n",
       "    <tr>\n",
       "      <th>8</th>\n",
       "      <td>9</td>\n",
       "      <td>9</td>\n",
       "      <td>German supper with eggs fast options</td>\n",
       "      <td>German</td>\n",
       "      <td>supper</td>\n",
       "      <td>eggs</td>\n",
       "      <td>low prep time</td>\n",
       "    </tr>\n",
       "    <tr>\n",
       "      <th>9</th>\n",
       "      <td>10</td>\n",
       "      <td>10</td>\n",
       "      <td>Tuna dinner ideas for Italian in less than an ...</td>\n",
       "      <td>Italian</td>\n",
       "      <td>dinner</td>\n",
       "      <td>tuna</td>\n",
       "      <td>less than 1h</td>\n",
       "    </tr>\n",
       "    <tr>\n",
       "      <th>10</th>\n",
       "      <td>11</td>\n",
       "      <td>11</td>\n",
       "      <td>French breakfast with chicken breast quick ideas</td>\n",
       "      <td>French</td>\n",
       "      <td>breakfast</td>\n",
       "      <td>chicken breast</td>\n",
       "      <td>20 min</td>\n",
       "    </tr>\n",
       "    <tr>\n",
       "      <th>11</th>\n",
       "      <td>12</td>\n",
       "      <td>12</td>\n",
       "      <td>Vietnamese supper with eggs low prep time</td>\n",
       "      <td>Vietnamese</td>\n",
       "      <td>supper</td>\n",
       "      <td>eggs</td>\n",
       "      <td>low prep time</td>\n",
       "    </tr>\n",
       "    <tr>\n",
       "      <th>12</th>\n",
       "      <td>13</td>\n",
       "      <td>13</td>\n",
       "      <td>What can I cook German dinner with salmon fast</td>\n",
       "      <td>German</td>\n",
       "      <td>dinner</td>\n",
       "      <td>salmon</td>\n",
       "      <td>less than 1h</td>\n",
       "    </tr>\n",
       "    <tr>\n",
       "      <th>13</th>\n",
       "      <td>14</td>\n",
       "      <td>14</td>\n",
       "      <td>Italian breakfast with eggs quick and easy</td>\n",
       "      <td>Italian</td>\n",
       "      <td>breakfast</td>\n",
       "      <td>eggs</td>\n",
       "      <td>20 min</td>\n",
       "    </tr>\n",
       "    <tr>\n",
       "      <th>14</th>\n",
       "      <td>15</td>\n",
       "      <td>15</td>\n",
       "      <td>Low prep French supper with chicken breast sug...</td>\n",
       "      <td>French</td>\n",
       "      <td>supper</td>\n",
       "      <td>chicken breast</td>\n",
       "      <td>low prep time</td>\n",
       "    </tr>\n",
       "    <tr>\n",
       "      <th>15</th>\n",
       "      <td>16</td>\n",
       "      <td>16</td>\n",
       "      <td>Vietnamese breakfast with tuna ready quickly</td>\n",
       "      <td>Vietnamese</td>\n",
       "      <td>breakfast</td>\n",
       "      <td>tuna</td>\n",
       "      <td>less than 1h</td>\n",
       "    </tr>\n",
       "    <tr>\n",
       "      <th>16</th>\n",
       "      <td>17</td>\n",
       "      <td>17</td>\n",
       "      <td>What to make German supper with salmon in 20 min</td>\n",
       "      <td>German</td>\n",
       "      <td>supper</td>\n",
       "      <td>salmon</td>\n",
       "      <td>20 min</td>\n",
       "    </tr>\n",
       "    <tr>\n",
       "      <th>17</th>\n",
       "      <td>18</td>\n",
       "      <td>18</td>\n",
       "      <td>Italian dinner with eggs low prep quick recipes</td>\n",
       "      <td>Italian</td>\n",
       "      <td>dinner</td>\n",
       "      <td>eggs</td>\n",
       "      <td>low prep time</td>\n",
       "    </tr>\n",
       "    <tr>\n",
       "      <th>18</th>\n",
       "      <td>19</td>\n",
       "      <td>19</td>\n",
       "      <td>Quick French breakfast with tuna ideas</td>\n",
       "      <td>French</td>\n",
       "      <td>breakfast</td>\n",
       "      <td>tuna</td>\n",
       "      <td>less than 1h</td>\n",
       "    </tr>\n",
       "    <tr>\n",
       "      <th>19</th>\n",
       "      <td>20</td>\n",
       "      <td>20</td>\n",
       "      <td>Vietnamese breakfast with egg in 20 minutes</td>\n",
       "      <td>Vietnamese</td>\n",
       "      <td>breakfast</td>\n",
       "      <td>egg</td>\n",
       "      <td>20 min</td>\n",
       "    </tr>\n",
       "  </tbody>\n",
       "</table>\n",
       "</div>"
      ],
      "text/plain": [
       "    query_id  tuple_id                                         user_query  \\\n",
       "0          1         1  What can I make for German breakfast with tuna...   \n",
       "1          2         2           Quick Italian supper with eggs any ideas   \n",
       "2          3         3  Low prep French dinner chicken breast suggestions   \n",
       "3          4         4  Vietnamese breakfast with salmon ready in less...   \n",
       "4          5         5         Easy German dinner with eggs in 20 minutes   \n",
       "5          6         6  Italian breakfast with chicken breast quick re...   \n",
       "6          7         7              French supper with tuna under an hour   \n",
       "7          8         8  What to cook Vietnamese dinner with salmon in ...   \n",
       "8          9         9               German supper with eggs fast options   \n",
       "9         10        10  Tuna dinner ideas for Italian in less than an ...   \n",
       "10        11        11   French breakfast with chicken breast quick ideas   \n",
       "11        12        12          Vietnamese supper with eggs low prep time   \n",
       "12        13        13     What can I cook German dinner with salmon fast   \n",
       "13        14        14         Italian breakfast with eggs quick and easy   \n",
       "14        15        15  Low prep French supper with chicken breast sug...   \n",
       "15        16        16       Vietnamese breakfast with tuna ready quickly   \n",
       "16        17        17   What to make German supper with salmon in 20 min   \n",
       "17        18        18    Italian dinner with eggs low prep quick recipes   \n",
       "18        19        19             Quick French breakfast with tuna ideas   \n",
       "19        20        20        Vietnamese breakfast with egg in 20 minutes   \n",
       "\n",
       "   cuisine_type  meal_type   available_food preparation_time  \n",
       "0        German  breakfast             tuna     less than 1h  \n",
       "1       Italian     supper             eggs           20 min  \n",
       "2        French     dinner   chicken breast    low prep time  \n",
       "3    Vietnamese  breakfast           salmon     less than 1h  \n",
       "4        German     dinner             eggs           20 min  \n",
       "5       Italian  breakfast   chicken breast    low prep time  \n",
       "6        French     supper             tuna     less than 1h  \n",
       "7    Vietnamese     dinner           salmon           20 min  \n",
       "8        German     supper             eggs    low prep time  \n",
       "9       Italian     dinner             tuna     less than 1h  \n",
       "10       French  breakfast   chicken breast           20 min  \n",
       "11   Vietnamese     supper             eggs    low prep time  \n",
       "12       German     dinner           salmon     less than 1h  \n",
       "13      Italian  breakfast             eggs           20 min  \n",
       "14       French     supper   chicken breast    low prep time  \n",
       "15   Vietnamese  breakfast             tuna     less than 1h  \n",
       "16       German     supper           salmon           20 min  \n",
       "17      Italian     dinner             eggs    low prep time  \n",
       "18       French  breakfast             tuna     less than 1h  \n",
       "19   Vietnamese  breakfast              egg           20 min  "
      ]
     },
     "metadata": {},
     "output_type": "display_data"
    },
    {
     "name": "stdout",
     "output_type": "stream",
     "text": [
      "✅ Saved to user-queries-with-tuples.csv\n"
     ]
    }
   ],
   "source": [
    "import pandas as pd\n",
    "\n",
    "# Read the CSVs\n",
    "user_queries_df = pd.read_csv('user-queries-result.csv')\n",
    "tuples_df = pd.read_csv('tuples.csv')\n",
    "\n",
    "# Merge the dataframes on tuple_id\n",
    "merged_df = pd.merge(user_queries_df, tuples_df, on='tuple_id', how='left')\n",
    "\n",
    "# Reorder columns for better display\n",
    "columns_order = ['query_id', 'tuple_id', 'user_query', 'cuisine_type', 'meal_type', 'available_food', 'preparation_time']\n",
    "merged_df = merged_df[columns_order]\n",
    "\n",
    "# Display the merged dataframe\n",
    "display(merged_df)\n",
    "\n",
    "# Save the merged dataframe to CSV\n",
    "merged_df.to_csv('user-queries-with-tuples.csv', index=False)\n",
    "print(\"✅ Saved to user-queries-with-tuples.csv\")"
   ]
  },
  {
   "cell_type": "code",
   "execution_count": 13,
   "id": "835e322e",
   "metadata": {},
   "outputs": [
    {
     "name": "stdout",
     "output_type": "stream",
     "text": [
      "query_id,tuple_id,user_query,cuisine_type,meal_type,available_food,preparation_time\n",
      "1,1,What can I make for German breakfast with tuna in under an hour,German,breakfast,tuna,less than 1h\n",
      "2,2,Quick Italian supper with eggs any ideas,Italian,supper,eggs,20 min\n",
      "3,3,Low prep French dinner chicken breast suggestions,French,dinner,chicken breast,low prep time\n",
      "4,4,Vietnamese breakfast with salmon ready in less than an hour,Vietnamese,breakfast,salmon,less than 1h\n",
      "5,5,Easy German dinner with eggs in 20 minutes,German,dinner,eggs,20 min\n",
      "6,6,Italian breakfast with chicken breast quick recipes,Italian,breakfast,chicken breast,low prep time\n",
      "7,7,French supper with tuna under an hour,French,supper,tuna,less than 1h\n",
      "8,8,What to cook Vietnamese dinner with salmon in 20 min,Vietnamese,dinner,salmon,20 min\n",
      "9,9,German supper with eggs fast options,German,supper,eggs,low prep time\n",
      "10,10,Tuna dinner ideas for Italian in less than an hour,Italian,dinner,tuna,less than 1h\n",
      "11,11,French breakfast with chicken breast quick ideas,French,breakfast, chicken breast,20 min\n",
      "12,12,Vietnamese supper with eggs low prep time,Vietnamese,supper,eggs,low prep time\n",
      "13,13,What can I cook German dinner with salmon fast,German,dinner,salmon,less than 1h\n",
      "14,14,Italian breakfast with eggs quick and easy,Italian,breakfast,eggs,20 min\n",
      "15,15,Low prep French supper with chicken breast suggestions,French,supper,chicken breast,low prep time\n",
      "16,16,Vietnamese breakfast with tuna ready quickly,Vietnamese,breakfast,tuna,less than 1h\n",
      "17,17,What to make German supper with salmon in 20 min,German,supper,salmon,20 min\n",
      "18,18,Italian dinner with eggs low prep quick recipes,Italian,dinner,eggs,low prep time\n",
      "19,19,Quick French breakfast with tuna ideas,French,breakfast,tuna,less than 1h\n",
      "20,20,Vietnamese breakfast with egg in 20 minutes,Vietnamese,breakfast,egg,20 min\n"
     ]
    }
   ],
   "source": [
    "!cat user-queries-with-tuples.csv "
   ]
  },
  {
   "cell_type": "markdown",
   "id": "d513dab2",
   "metadata": {},
   "source": []
  },
  {
   "cell_type": "markdown",
   "id": "b5d02f1d",
   "metadata": {},
   "source": [
    "\n",
    "## Part 2: Initial Error Analysis"
   ]
  },
  {
   "cell_type": "markdown",
   "id": "3e44d557",
   "metadata": {},
   "source": [
    "### Run Bot on Synthetic Queries\n",
    "\n",
    "As I wanted to run the queries with the `bulk_test.py` script, I transformed the query results into a format suitable for the bulk script. I also prefixed the id with SYN to distinguish beteen generated, and real user queries."
   ]
  },
  {
   "cell_type": "code",
   "execution_count": 39,
   "id": "ca67890c",
   "metadata": {},
   "outputs": [
    {
     "name": "stdout",
     "output_type": "stream",
     "text": [
      "    query_id  tuple_id                                         user_query\n",
      "0          1         1  What can I make for German breakfast with tuna...\n",
      "1          2         2           Quick Italian supper with eggs any ideas\n",
      "2          3         3  Low prep French dinner chicken breast suggestions\n",
      "3          4         4  Vietnamese breakfast with salmon ready in less...\n",
      "4          5         5         Easy German dinner with eggs in 20 minutes\n",
      "5          6         6  Italian breakfast with chicken breast quick re...\n",
      "6          7         7              French supper with tuna under an hour\n",
      "7          8         8  What to cook Vietnamese dinner with salmon in ...\n",
      "8          9         9               German supper with eggs fast options\n",
      "9         10        10  Tuna dinner ideas for Italian in less than an ...\n",
      "10        11        11   French breakfast with chicken breast quick ideas\n",
      "11        12        12          Vietnamese supper with eggs low prep time\n",
      "12        13        13     What can I cook German dinner with salmon fast\n",
      "13        14        14         Italian breakfast with eggs quick and easy\n",
      "14        15        15  Low prep French supper with chicken breast sug...\n",
      "15        16        16       Vietnamese breakfast with tuna ready quickly\n",
      "16        17        17   What to make German supper with salmon in 20 min\n",
      "17        18        18    Italian dinner with eggs low prep quick recipes\n",
      "18        19        19             Quick French breakfast with tuna ideas\n",
      "19        20        20        Vietnamese breakfast with egg in 20 minutes\n"
     ]
    }
   ],
   "source": [
    "user_queries_df = pd.read_csv('user-queries-result.csv')\n",
    "print(user_queries_df)"
   ]
  },
  {
   "cell_type": "code",
   "execution_count": 40,
   "id": "208c646e",
   "metadata": {},
   "outputs": [
    {
     "name": "stdout",
     "output_type": "stream",
     "text": [
      "✅ Saved to user-queries.csv with 20 queries\n"
     ]
    }
   ],
   "source": [
    "# Make a copy of the dataframe to avoid modifying the original\n",
    "syn_queries_df = user_queries_df.copy()\n",
    "\n",
    "# Rename query_id column to id and user_query column to query\n",
    "syn_queries_df = syn_queries_df.rename(columns={'query_id': 'id', 'user_query': 'query'})\n",
    "\n",
    "# Prefix the id values with SYN\n",
    "syn_queries_df['id'] = 'SYN' + syn_queries_df['id'].astype(str)\n",
    "\n",
    "# Drop the tuple_id column\n",
    "syn_queries_df = syn_queries_df.drop(columns=['tuple_id'])\n",
    "\n",
    "# Save the data to user-queries.csv\n",
    "syn_queries_df.to_csv('syn_queries.csv', index=False)\n",
    "\n",
    "print(f\"✅ Saved to user-queries.csv with {len(syn_queries_df)} queries\")"
   ]
  },
  {
   "cell_type": "code",
   "execution_count": 41,
   "id": "10c3f6fd",
   "metadata": {},
   "outputs": [
    {
     "name": "stdout",
     "output_type": "stream",
     "text": [
      "id,query\n",
      "SYN1,What can I make for German breakfast with tuna in under an hour\n",
      "SYN2,Quick Italian supper with eggs any ideas\n",
      "SYN3,Low prep French dinner chicken breast suggestions\n",
      "SYN4,Vietnamese breakfast with salmon ready in less than an hour\n",
      "SYN5,Easy German dinner with eggs in 20 minutes\n",
      "SYN6,Italian breakfast with chicken breast quick recipes\n",
      "SYN7,French supper with tuna under an hour\n",
      "SYN8,What to cook Vietnamese dinner with salmon in 20 min\n",
      "SYN9,German supper with eggs fast options\n",
      "SYN10,Tuna dinner ideas for Italian in less than an hour\n",
      "SYN11,French breakfast with chicken breast quick ideas\n",
      "SYN12,Vietnamese supper with eggs low prep time\n",
      "SYN13,What can I cook German dinner with salmon fast\n",
      "SYN14,Italian breakfast with eggs quick and easy\n",
      "SYN15,Low prep French supper with chicken breast suggestions\n",
      "SYN16,Vietnamese breakfast with tuna ready quickly\n",
      "SYN17,What to make German supper with salmon in 20 min\n",
      "SYN18,Italian dinner with eggs low prep quick recipes\n",
      "SYN19,Quick French breakfast with tuna ideas\n",
      "SYN20,Vietnamese breakfast with egg in 20 minutes\n"
     ]
    }
   ],
   "source": [
    "!cat syn_queries.csv"
   ]
  },
  {
   "cell_type": "markdown",
   "id": "79a2bef1",
   "metadata": {},
   "source": [
    "I used the `bulk_test.py` script to query the recipe bot using the synthetic queries."
   ]
  },
  {
   "cell_type": "code",
   "execution_count": 42,
   "id": "f6e23902",
   "metadata": {
    "vscode": {
     "languageId": "shellscript"
    }
   },
   "outputs": [],
   "source": [
    "#!SYSTEM_PROMPT_PATH=systemprompt-003.md \\\n",
    "#    python ../../../scripts/bulk_test.py \\\n",
    "#        --csv syn_queries.csv \\\n",
    "#        --out-path syn_results.csv"
   ]
  },
  {
   "cell_type": "code",
   "execution_count": 43,
   "id": "66b85888",
   "metadata": {
    "vscode": {
     "languageId": "shellscript"
    }
   },
   "outputs": [
    {
     "name": "stdout",
     "output_type": "stream",
     "text": [
      "     831    4815   28458 syn_results.csv\n"
     ]
    }
   ],
   "source": [
    "!wc syn_results.csv"
   ]
  },
  {
   "cell_type": "markdown",
   "id": "3d223a97",
   "metadata": {},
   "source": [
    "### Open Coding\n",
    "\n",
    "I reviewed the interaction traces and added descriptive labels/notes to identify patterns and potential errors. I built a tool with Flet (`annotate.py`). I also recored fail/pass (ie. acceptable/not acceptable) to get a quick overview.\n",
    "\n",
    "![Annotate List View](annotate-list-view.webp)\n",
    "\n",
    "![Annotate Detail View](annotate-detail-view.webp)\n",
    "\n",
    "I saw following initial themes, patterns, and potential errors or areas for improvement:\n",
    "\n",
    "- I found the recipes surprisingly good and interesting.\n",
    "- ending notes are superflous, should be omitted. This was by far the most prominent failure, I've discovered.\n",
    "- formatting with preparation is inconsistent (sometimes with bold first words per step, mostly not)\n",
    "- some cooking time estimations and calorie calculations are off at first look. I assume calory estimations are probably more generally not really correct. Mostly underestimated calories."
   ]
  },
  {
   "cell_type": "markdown",
   "id": "ed521006",
   "metadata": {},
   "source": [
    "### Axial Coding & Taxonomy Definition\n",
    "\n",
    "I imported the CSV into Excel, and structured the initial open codes into broader, structured categories or 'failure modes' to build an error taxonomy, as described in Sec 3.3 of the provided chapter.\n",
    "\n",
    "I grouped the observations from open coding into broader categories (\"failure modes\").\n",
    "\n",
    "For each identified failure mode, I created a clear and concise taxonomy with\n",
    "  * **A clear Title** for the failure mode.\n",
    "  * **A concise one-sentence Definition** explaining the failure mode.\n",
    "  * **1-2 Illustrative Examples**"
   ]
  },
  {
   "cell_type": "code",
   "execution_count": 3,
   "id": "ffc22465",
   "metadata": {
    "vscode": {
     "languageId": "shellscript"
    }
   },
   "outputs": [
    {
     "name": "stdout",
     "output_type": "stream",
     "text": [
      "Collecting openpyxl\n",
      "  Downloading openpyxl-3.1.5-py2.py3-none-any.whl (250 kB)\n",
      "\u001b[2K     \u001b[90m━━━━━━━━━━━━━━━━━━━━━━━━━━━━━━━━━━━━━━━\u001b[0m \u001b[32m250.9/250.9 kB\u001b[0m \u001b[31m1.8 MB/s\u001b[0m eta \u001b[36m0:00:00\u001b[0ma \u001b[36m0:00:01\u001b[0m\n",
      "\u001b[?25hCollecting et-xmlfile\n",
      "  Downloading et_xmlfile-2.0.0-py3-none-any.whl (18 kB)\n",
      "Installing collected packages: et-xmlfile, openpyxl\n",
      "Successfully installed et-xmlfile-2.0.0 openpyxl-3.1.5\n",
      "\n",
      "\u001b[1m[\u001b[0m\u001b[34;49mnotice\u001b[0m\u001b[1;39;49m]\u001b[0m\u001b[39;49m A new release of pip is available: \u001b[0m\u001b[31;49m23.0.1\u001b[0m\u001b[39;49m -> \u001b[0m\u001b[32;49m25.1.1\u001b[0m\n",
      "\u001b[1m[\u001b[0m\u001b[34;49mnotice\u001b[0m\u001b[1;39;49m]\u001b[0m\u001b[39;49m To update, run: \u001b[0m\u001b[32;49mpip install --upgrade pip\u001b[0m\n"
     ]
    }
   ],
   "source": [
    "!pip install openpyxl"
   ]
  },
  {
   "cell_type": "code",
   "execution_count": 4,
   "id": "c3d80a2d",
   "metadata": {
    "vscode": {
     "languageId": "shellscript"
    }
   },
   "outputs": [
    {
     "data": {
      "text/html": [
       "<table border=\"1\" class=\"dataframe\">\n",
       "  <thead>\n",
       "    <tr style=\"text-align: right;\">\n",
       "      <th>id</th>\n",
       "      <th>title</th>\n",
       "      <th>definition</th>\n",
       "      <th>example1</th>\n",
       "      <th>example2</th>\n",
       "    </tr>\n",
       "  </thead>\n",
       "  <tbody>\n",
       "    <tr>\n",
       "      <td>1</td>\n",
       "      <td>unwanted final note</td>\n",
       "      <td>A final note or question is added but not wanted.</td>\n",
       "      <td>SYN15</td>\n",
       "      <td>SYN19</td>\n",
       "    </tr>\n",
       "    <tr>\n",
       "      <td>2</td>\n",
       "      <td>unwanted fat words</td>\n",
       "      <td>Some words are bold, which is not wanted.</td>\n",
       "      <td>SYN4</td>\n",
       "      <td>NaN</td>\n",
       "    </tr>\n",
       "    <tr>\n",
       "      <td>3</td>\n",
       "      <td>unwanted newlines</td>\n",
       "      <td>Superflous newlines appear in lists.</td>\n",
       "      <td>SYN16</td>\n",
       "      <td>NaN</td>\n",
       "    </tr>\n",
       "    <tr>\n",
       "      <td>4</td>\n",
       "      <td>wrong calories calculation</td>\n",
       "      <td>The calory calculation is wrong (too low).</td>\n",
       "      <td>SYN9</td>\n",
       "      <td>NaN</td>\n",
       "    </tr>\n",
       "    <tr>\n",
       "      <td>5</td>\n",
       "      <td>wrong cook time estimation</td>\n",
       "      <td>The cook time estimation is wrong (too low).</td>\n",
       "      <td>SYN16</td>\n",
       "      <td>NaN</td>\n",
       "    </tr>\n",
       "  </tbody>\n",
       "</table>"
      ],
      "text/plain": [
       "<IPython.core.display.HTML object>"
      ]
     },
     "metadata": {},
     "output_type": "display_data"
    },
    {
     "name": "stdout",
     "output_type": "stream",
     "text": [
      "Found 5 failure modes in the axial coding analysis.\n"
     ]
    }
   ],
   "source": [
    "import pandas as pd\n",
    "from IPython.display import display, HTML\n",
    "\n",
    "# Read the data from the Excel file, specifically from the 'failure_modes' tab\n",
    "try:\n",
    "    failure_modes_df = pd.read_excel('axial-coding.xlsx', sheet_name='failure_modes')\n",
    "    \n",
    "    # Display the failure modes data in a formatted way\n",
    "    display(HTML(failure_modes_df.to_html(index=False)))\n",
    "    \n",
    "    # Print some statistics\n",
    "    print(f\"Found {len(failure_modes_df)} failure modes in the axial coding analysis.\")\n",
    "except FileNotFoundError:\n",
    "    print(\"Error: The file 'axial-coding.xlsx' was not found.\")\n",
    "except Exception as e:\n",
    "    print(f\"Error reading the Excel file: {str(e)}\")"
   ]
  }
 ],
 "metadata": {
  "kernelspec": {
   "display_name": ".venv",
   "language": "python",
   "name": "python3"
  },
  "language_info": {
   "codemirror_mode": {
    "name": "ipython",
    "version": 3
   },
   "file_extension": ".py",
   "mimetype": "text/x-python",
   "name": "python",
   "nbconvert_exporter": "python",
   "pygments_lexer": "ipython3",
   "version": "3.10.12"
  }
 },
 "nbformat": 4,
 "nbformat_minor": 5
}
