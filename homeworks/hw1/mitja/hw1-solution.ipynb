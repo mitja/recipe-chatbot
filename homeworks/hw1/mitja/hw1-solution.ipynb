{
 "cells": [
  {
   "cell_type": "markdown",
   "id": "b406b4a9",
   "metadata": {},
   "source": [
    "# Homework 1 Solution\n",
    "\n",
    "## Write an Effective System Prompt\n",
    "\n",
    "1. I changed `backend/utils.py` to optionally load the system prompt from a file defined via a the `SYSTEM_PROMPT_PATH` environment variable. \n",
    "2. I created a prompt for generating an initial prompt (`systemprompt-generation-001.md`) which included a high level concept for the envisioned app. I used `o3-mini` to create the actual initial prompt (`systemprompt-001.md`).\n",
    "3. I tested and iterated on the prompt until I settled on an improved version (`systemprompt-002.md`) which I then stripped off asking clarifying questions to simplify future homeworks (`systemprompt-003.md`).\n"
   ]
  },
  {
   "cell_type": "code",
   "execution_count": 40,
   "id": "59c57a12",
   "metadata": {},
   "outputs": [
    {
     "data": {
      "text/markdown": [
       "You are a helpful recipe assistant specializing in suggesting healthy recipes. Your goal is to suggest well-balanced, nutritious meals for a family while respecting the family members' individual dietary needs and preferences. Directly respond with a recipe. Only return the recipe in the desired output format. Don't ask clarifying questions.\n",
       "\n",
       "## Core Responsibilities\n",
       "\n",
       "1. **Suggest recipes** based on dietary needs and preferences\n",
       "2. **Calculate proper portions** for family members and guests\n",
       "3. **Provide nutritional information** to support health goals\n",
       "4. **Check constraints** and report if the meal meets dietary contraints such as allergies and things to be omitted.\n",
       "\n",
       "## Interaction Guidelines\n",
       "\n",
       "### Recipe Suggestions\n",
       "\n",
       "- Respect dietary constraints\n",
       "- Provide nutritional balance\n",
       "- meets the dietary needs and preferences of the family members that will eat it\n",
       "- Suggest one recipe.\n",
       "- If the user wants alternatives, offer 2 options\n",
       "\n",
       "Always provide:\n",
       "\n",
       "1. Recipe with scaled ingredients (adjusted for actual number of meals)\n",
       "2. Step-by-step instructions for preparation.\n",
       "3. Nutritional summary per serving\n",
       "4. Checklist of compliance with dietary constraints\n",
       "\n",
       "## Context Information\n",
       "\n",
       "<family_members>\n",
       "- **Father (Tom)**: 53 years old, 180cm, 92kg\n",
       "  - Goal: Weight loss (target: 1800 cal/day)\n",
       "  - Activity: Sedentary\n",
       "  - Constraints: No pork, limited red meat, low unhealthy fats\n",
       "  - Macros: High protein (25%), moderate carbs (45%), moderate fat (30%)\n",
       "  \n",
       "- **Mother (Sarah)**: 50 years old, 154cm, 42kg\n",
       "  - Goal: Maintain weight (target: 1600 cal/day)\n",
       "  - Activity: Normally active\n",
       "  - Constraints: None\n",
       "  - Macros: Balanced (20% protein, 50% carbs, 30% fat)\n",
       "  \n",
       "- **Daughter (Emma)**: 12 years old, 149cm, slim build\n",
       "  - Goal: Healthy growth (target: 1800 cal/day)\n",
       "  - Activity: Active (sports 3x/week)\n",
       "  - Constraints: None\n",
       "  - Macros: Growth-supporting (20% protein, 55% carbs, 25% fat)\n",
       "</family_members>\n",
       "\n",
       "## Response Structure\n",
       "\n",
       "When providing meal recommendations, always format your response as follows:\n",
       "\n",
       "<response_format>\n",
       "# [Recipe Name]\n",
       "\n",
       "- Servings: [Adjusted number]\n",
       "- Prep Time: [X minutes]\n",
       "- Cook Time: [Y minutes]\n",
       "\n",
       "## Ingredients (scaled)\n",
       "\n",
       "- [Ingredient 1: amount]\n",
       "- [Ingredient 2: amount]\n",
       "- [etc.]\n",
       "\n",
       "## Preparation\n",
       "\n",
       "1. [Step 1]\n",
       "\n",
       "2. [Step 2]\n",
       "\n",
       "3. [etc.]\n",
       "\n",
       "## Nutritional Information (per serving)\n",
       "\n",
       "- Calories: [X]\n",
       "- Protein: [X]g\n",
       "- Carbohydrates: [X]g\n",
       "- Fat: [X]g\n",
       "\n",
       "## Dietary Constraints Compliance\n",
       "\n",
       "- [Family Member 1]: [short info on compliance]\n",
       "- [Family Member 2]: [short info on compliance]\n",
       "</response_format>\n",
       "\n",
       "## Important Considerations\n",
       "\n",
       "1. Portion Scaling: Always adjust recipe quantities based on actual number of diners\n",
       "2. Nutritional Balance: Ensure daily meals meet family members' caloric and macro needs\n",
       "3. Dietary Constraints: Ensure the recipes respect the dietary constraints\n",
       "4. ood Safety: Never suggest recipes with raw eggs, undercooked meats, or other potentially unsafe preparations or ingredients.\n",
       "\n",
       "Remember to maintain a friendly, helpful tone while being concise and precise about nutritional information and portion sizes. Your goal is to make healthy eating enjoyable and stress-free for the entire family."
      ],
      "text/plain": [
       "<IPython.core.display.Markdown object>"
      ]
     },
     "metadata": {},
     "output_type": "display_data"
    }
   ],
   "source": [
    "from IPython.display import Markdown, display\n",
    "\n",
    "with open(\"systemprompt-003.md\", \"r\") as f:\n",
    "    md_content = f.read()\n",
    "\n",
    "display(Markdown(md_content))\n",
    "#print(md_content)"
   ]
  },
  {
   "cell_type": "markdown",
   "id": "7f4d80cb",
   "metadata": {},
   "source": [
    "## Add Sample Data\n",
    "\n",
    "I copied `data/sample_queries.csv` to `homeworks/mitja/sample_queries.csv` and added 11 diverse examples. I later ran into csv parsing issues with commas int he prompts. I worked around it by removing any commas."
   ]
  },
  {
   "cell_type": "code",
   "execution_count": 41,
   "id": "cc6ec523",
   "metadata": {},
   "outputs": [],
   "source": [
    "#!cp ../../../data/sample_queries.csv ."
   ]
  },
  {
   "cell_type": "code",
   "execution_count": 31,
   "id": "3029a012",
   "metadata": {},
   "outputs": [
    {
     "data": {
      "text/html": [
       "<style type=\"text/css\">\n",
       "#T_06d1c_row0_col0, #T_06d1c_row0_col1, #T_06d1c_row1_col0, #T_06d1c_row1_col1, #T_06d1c_row2_col0, #T_06d1c_row2_col1, #T_06d1c_row3_col0, #T_06d1c_row3_col1, #T_06d1c_row4_col0, #T_06d1c_row4_col1, #T_06d1c_row5_col0, #T_06d1c_row5_col1, #T_06d1c_row6_col0, #T_06d1c_row6_col1, #T_06d1c_row7_col0, #T_06d1c_row7_col1, #T_06d1c_row8_col0, #T_06d1c_row8_col1, #T_06d1c_row9_col0, #T_06d1c_row9_col1, #T_06d1c_row10_col0, #T_06d1c_row10_col1, #T_06d1c_row11_col0, #T_06d1c_row11_col1, #T_06d1c_row12_col0, #T_06d1c_row12_col1 {\n",
       "  text-align: left;\n",
       "}\n",
       "</style>\n",
       "<table id=\"T_06d1c\">\n",
       "  <thead>\n",
       "    <tr>\n",
       "      <th class=\"blank level0\" >&nbsp;</th>\n",
       "      <th id=\"T_06d1c_level0_col0\" class=\"col_heading level0 col0\" >id</th>\n",
       "      <th id=\"T_06d1c_level0_col1\" class=\"col_heading level0 col1\" >query</th>\n",
       "    </tr>\n",
       "  </thead>\n",
       "  <tbody>\n",
       "    <tr>\n",
       "      <th id=\"T_06d1c_level0_row0\" class=\"row_heading level0 row0\" >0</th>\n",
       "      <td id=\"T_06d1c_row0_col0\" class=\"data row0 col0\" >1</td>\n",
       "      <td id=\"T_06d1c_row0_col1\" class=\"data row0 col1\" >Suggest a quick vegan breakfast recipe</td>\n",
       "    </tr>\n",
       "    <tr>\n",
       "      <th id=\"T_06d1c_level0_row1\" class=\"row_heading level0 row1\" >1</th>\n",
       "      <td id=\"T_06d1c_row1_col0\" class=\"data row1 col0\" >2</td>\n",
       "      <td id=\"T_06d1c_row1_col1\" class=\"data row1 col1\" >I have chicken and rice. what can I cook?</td>\n",
       "    </tr>\n",
       "    <tr>\n",
       "      <th id=\"T_06d1c_level0_row2\" class=\"row_heading level0 row2\" >2</th>\n",
       "      <td id=\"T_06d1c_row2_col0\" class=\"data row2 col0\" >3</td>\n",
       "      <td id=\"T_06d1c_row2_col1\" class=\"data row2 col1\" >Give me a dessert recipe with chocolate</td>\n",
       "    </tr>\n",
       "    <tr>\n",
       "      <th id=\"T_06d1c_level0_row3\" class=\"row_heading level0 row3\" >3</th>\n",
       "      <td id=\"T_06d1c_row3_col0\" class=\"data row3 col0\" >4</td>\n",
       "      <td id=\"T_06d1c_row3_col1\" class=\"data row3 col1\" >I have eggs salad tuna what can I make with it?</td>\n",
       "    </tr>\n",
       "    <tr>\n",
       "      <th id=\"T_06d1c_level0_row4\" class=\"row_heading level0 row4\" >4</th>\n",
       "      <td id=\"T_06d1c_row4_col0\" class=\"data row4 col0\" >5</td>\n",
       "      <td id=\"T_06d1c_row4_col1\" class=\"data row4 col1\" >a meal I can prep in 10 minutes</td>\n",
       "    </tr>\n",
       "    <tr>\n",
       "      <th id=\"T_06d1c_level0_row5\" class=\"row_heading level0 row5\" >5</th>\n",
       "      <td id=\"T_06d1c_row5_col0\" class=\"data row5 col0\" >6</td>\n",
       "      <td id=\"T_06d1c_row5_col1\" class=\"data row5 col1\" >a recipe for a festive but healthy dinner</td>\n",
       "    </tr>\n",
       "    <tr>\n",
       "      <th id=\"T_06d1c_level0_row6\" class=\"row_heading level0 row6\" >6</th>\n",
       "      <td id=\"T_06d1c_row6_col0\" class=\"data row6 col0\" >7</td>\n",
       "      <td id=\"T_06d1c_row6_col1\" class=\"data row6 col1\" >I am alone today what is a simple dinner recipe</td>\n",
       "    </tr>\n",
       "    <tr>\n",
       "      <th id=\"T_06d1c_level0_row7\" class=\"row_heading level0 row7\" >7</th>\n",
       "      <td id=\"T_06d1c_row7_col0\" class=\"data row7 col0\" >8</td>\n",
       "      <td id=\"T_06d1c_row7_col1\" class=\"data row7 col1\" >what shall I cook today give me a low-prep surprise recipe</td>\n",
       "    </tr>\n",
       "    <tr>\n",
       "      <th id=\"T_06d1c_level0_row8\" class=\"row_heading level0 row8\" >8</th>\n",
       "      <td id=\"T_06d1c_row8_col0\" class=\"data row8 col0\" >9</td>\n",
       "      <td id=\"T_06d1c_row8_col1\" class=\"data row8 col1\" >a recipe that I can cook today and eat today and tomorrow</td>\n",
       "    </tr>\n",
       "    <tr>\n",
       "      <th id=\"T_06d1c_level0_row9\" class=\"row_heading level0 row9\" >9</th>\n",
       "      <td id=\"T_06d1c_row9_col0\" class=\"data row9 col0\" >10</td>\n",
       "      <td id=\"T_06d1c_row9_col1\" class=\"data row9 col1\" >italian cuisine recipe</td>\n",
       "    </tr>\n",
       "    <tr>\n",
       "      <th id=\"T_06d1c_level0_row10\" class=\"row_heading level0 row10\" >10</th>\n",
       "      <td id=\"T_06d1c_row10_col0\" class=\"data row10 col0\" >11</td>\n",
       "      <td id=\"T_06d1c_row10_col1\" class=\"data row10 col1\" >a light night dish recipe</td>\n",
       "    </tr>\n",
       "    <tr>\n",
       "      <th id=\"T_06d1c_level0_row11\" class=\"row_heading level0 row11\" >11</th>\n",
       "      <td id=\"T_06d1c_row11_col0\" class=\"data row11 col0\" >12</td>\n",
       "      <td id=\"T_06d1c_row11_col1\" class=\"data row11 col1\" >A salad recipe for a BBQ</td>\n",
       "    </tr>\n",
       "    <tr>\n",
       "      <th id=\"T_06d1c_level0_row12\" class=\"row_heading level0 row12\" >12</th>\n",
       "      <td id=\"T_06d1c_row12_col0\" class=\"data row12 col0\" >13</td>\n",
       "      <td id=\"T_06d1c_row12_col1\" class=\"data row12 col1\" >feeling ill give me a recipe for a soup</td>\n",
       "    </tr>\n",
       "  </tbody>\n",
       "</table>\n"
      ],
      "text/plain": [
       "<pandas.io.formats.style.Styler at 0x1148a1720>"
      ]
     },
     "execution_count": 31,
     "metadata": {},
     "output_type": "execute_result"
    }
   ],
   "source": [
    "import pandas as pd; pd.read_csv('sample_queries.csv').style.set_properties(**{'text-align': 'left'})"
   ]
  },
  {
   "cell_type": "markdown",
   "id": "080aa9d0",
   "metadata": {},
   "source": [
    "## Run the Bulk Test & Evaluate\n",
    "\n",
    "I modified `scripts/bulk_test.py` to make the output dir configurable, then I ran the script to generate the traces."
   ]
  },
  {
   "cell_type": "code",
   "execution_count": 39,
   "id": "4e626002",
   "metadata": {},
   "outputs": [],
   "source": [
    "#!SYSTEM_PROMPT_PATH=systemprompt-003.md \\\n",
    "#    python ../../../scripts/bulk_test.py \\\n",
    "#        --csv sample_queries.csv \\\n",
    "#        --out-path sample_results.csv"
   ]
  },
  {
   "cell_type": "code",
   "execution_count": null,
   "id": "83d54178",
   "metadata": {},
   "outputs": [],
   "source": []
  }
 ],
 "metadata": {
  "kernelspec": {
   "display_name": ".venv",
   "language": "python",
   "name": "python3"
  },
  "language_info": {
   "codemirror_mode": {
    "name": "ipython",
    "version": 3
   },
   "file_extension": ".py",
   "mimetype": "text/x-python",
   "name": "python",
   "nbconvert_exporter": "python",
   "pygments_lexer": "ipython3",
   "version": "3.10.12"
  }
 },
 "nbformat": 4,
 "nbformat_minor": 5
}
